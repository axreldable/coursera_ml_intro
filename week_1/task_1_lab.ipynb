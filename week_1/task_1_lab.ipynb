{
 "cells": [
  {
   "cell_type": "code",
   "execution_count": 1,
   "metadata": {},
   "outputs": [
    {
     "name": "stdout",
     "output_type": "stream",
     "text": [
      "[[ 20.03034598  -6.83945029  -5.11603146 ...  16.74495709  -8.28592255\n",
      "  -22.66921341]\n",
      " [ 15.87875857   6.85242871  -7.77583859 ... -16.5226424   -1.92543932\n",
      "   12.80468115]\n",
      " [  2.31316394   9.44005196  -5.7231311  ...   7.64504339   8.44332913\n",
      "   -1.49410705]\n",
      " ...\n",
      " [  5.38994145  27.49689729  14.03743167 ...   4.0855343    0.23838902\n",
      "    5.15559441]\n",
      " [ -0.61978613   0.85424849   5.59078709 ...   7.87696966   3.99791326\n",
      "   12.10932244]\n",
      " [ -5.69407316  11.52869041  -5.31167826 ...  17.09533099   4.33083599\n",
      "   -3.22879153]]\n",
      "[[ 1.78460964 -0.86300742 -0.65139298 ...  1.51460097 -0.90872381\n",
      "  -2.38754295]\n",
      " [ 1.38167171  0.50707481 -0.91541845 ... -1.73902111 -0.26950875\n",
      "   1.22346761]\n",
      " [ 0.06504457  0.76600615 -0.71165666 ...  0.6246155   0.77253048\n",
      "  -0.23205555]\n",
      " ...\n",
      " [ 0.36366537  2.57287012  1.24987347 ...  0.27649007 -0.05204859\n",
      "   0.44484059]\n",
      " [-0.21961687 -0.093135    0.41141821 ...  0.64729824  0.32577562\n",
      "   1.15268464]\n",
      " [-0.71210866  0.97500642 -0.67081384 ...  1.54886807  0.35923365\n",
      "  -0.40863509]]\n"
     ]
    }
   ],
   "source": [
    "import numpy as np\n",
    "\n",
    "X = np.random.normal(loc=1, scale=10, size=(1000, 50))\n",
    "print (X)\n",
    "\n",
    "m = np.mean(X, axis=0)\n",
    "std = np.std(X, axis=0)\n",
    "X_norm = ((X - m) / std)\n",
    "print(X_norm)"
   ]
  },
  {
   "cell_type": "code",
   "execution_count": 2,
   "metadata": {},
   "outputs": [
    {
     "name": "stdout",
     "output_type": "stream",
     "text": [
      "(array([1, 4, 5]),)\n"
     ]
    }
   ],
   "source": [
    "Z = np.array([[4, 5, 0], \n",
    "             [1, 9, 3],              \n",
    "             [5, 1, 1],\n",
    "             [3, 3, 3], \n",
    "             [9, 9, 9], \n",
    "             [4, 7, 1]])\n",
    "\n",
    "r = np.sum(Z, axis=1)\n",
    "print(np.nonzero(r > 10))"
   ]
  },
  {
   "cell_type": "code",
   "execution_count": 3,
   "metadata": {},
   "outputs": [
    {
     "name": "stdout",
     "output_type": "stream",
     "text": [
      "[[1. 0. 0.]\n",
      " [0. 1. 0.]\n",
      " [0. 0. 1.]]\n",
      "[[1. 0. 0.]\n",
      " [0. 1. 0.]\n",
      " [0. 0. 1.]]\n",
      "[[1. 0. 0.]\n",
      " [0. 1. 0.]\n",
      " [0. 0. 1.]\n",
      " [1. 0. 0.]\n",
      " [0. 1. 0.]\n",
      " [0. 0. 1.]]\n"
     ]
    }
   ],
   "source": [
    "A = np.eye(3)\n",
    "B = np.eye(3)\n",
    "print(A)\n",
    "print(B)\n",
    "\n",
    "AB = np.vstack((A, B))\n",
    "print(AB)"
   ]
  }
 ],
 "metadata": {
  "kernelspec": {
   "display_name": "Python 3",
   "language": "python",
   "name": "python3"
  },
  "language_info": {
   "codemirror_mode": {
    "name": "ipython",
    "version": 3
   },
   "file_extension": ".py",
   "mimetype": "text/x-python",
   "name": "python",
   "nbconvert_exporter": "python",
   "pygments_lexer": "ipython3",
   "version": "3.6.5"
  }
 },
 "nbformat": 4,
 "nbformat_minor": 2
}

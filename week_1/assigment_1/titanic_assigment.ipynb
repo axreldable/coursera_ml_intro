{
 "cells": [
  {
   "cell_type": "code",
   "execution_count": 101,
   "metadata": {},
   "outputs": [],
   "source": [
    "import pandas\n",
    "\n",
    "data = pandas.read_csv('titanic.csv', index_col='PassengerId')\n",
    "\n",
    "# Какое количество мужчин и женщин ехало на корабле? В качестве ответа приведите два числа через пробел.\n",
    "male_count, female_count = data['Sex'].value_counts()\n",
    "with open('answer_1.txt', 'w') as the_file:\n",
    "    the_file.write(str(male_count) + ' ' +  str(female_count))"
   ]
  },
  {
   "cell_type": "code",
   "execution_count": 102,
   "metadata": {},
   "outputs": [],
   "source": [
    "# Какой части пассажиров удалось выжить? Посчитайте долю выживших пассажиров. Ответ приведите в процентах (число в интервале от 0 до 100, знак процента не нужен), округлив до двух знаков.\n",
    "_, survive_count = data['Survived'].value_counts()\n",
    "count_all = data.shape[0]\n",
    "survivesProportion = round(survive_count / count_all * 100, 2)\n",
    "with open('answer_2.txt', 'w') as the_file:\n",
    "    the_file.write(str(survivesProportion))"
   ]
  },
  {
   "cell_type": "code",
   "execution_count": 103,
   "metadata": {},
   "outputs": [],
   "source": [
    "# Какую долю пассажиры первого класса составляли среди всех пассажиров? Ответ приведите в процентах (число в интервале от 0 до 100, знак процента не нужен), округлив до двух знаков._ , first_class_count, _ = data['Pclass'].value_counts()\n",
    "firstClassProportion = round(first_class_count / count_all * 100, 2)\n",
    "with open('answer_3.txt', 'w') as the_file:\n",
    "    the_file.write(str(firstClassProportion))"
   ]
  },
  {
   "cell_type": "code",
   "execution_count": 104,
   "metadata": {},
   "outputs": [],
   "source": [
    "# Какого возраста были пассажиры? Посчитайте среднее и медиану возраста пассажиров. В качестве ответа приведите два числа через пробел.\n",
    "age_column = data['Age']\n",
    "mean_age = round(age_column.mean(), 2)\n",
    "median_age = round(age_column.median(), 2)\n",
    "with open('answer_4.txt', 'w') as the_file:\n",
    "    the_file.write(str(mean_age) + ' ' +  str(median_age))"
   ]
  },
  {
   "cell_type": "code",
   "execution_count": 105,
   "metadata": {},
   "outputs": [],
   "source": [
    "# Коррелируют ли число братьев/сестер/супругов с числом родителей/детей? Посчитайте корреляцию Пирсона между признаками SibSp и Parch.\n",
    "import numpy\n",
    "cor = round(numpy.corrcoef(data['SibSp'], data['Parch'])[0, 1], 2)\n",
    "with open('answer_5.txt', 'w') as the_file:\n",
    "    the_file.write(str(cor))"
   ]
  },
  {
   "cell_type": "code",
   "execution_count": 106,
   "metadata": {},
   "outputs": [],
   "source": [
    "# Какое самое популярное женское имя на корабле? Извлеките из полного имени пассажира (колонка Name) его личное имя (First Name). \n",
    "# Это задание — типичный пример того, с чем сталкивается специалист по анализу данных. Данные очень разнородные и шумные, но из них требуется извлечь необходимую информацию.\n",
    "# Попробуйте вручную разобрать несколько значений столбца Name и выработать правило для извлечения имен, а также разделения их на женские и мужские.\n",
    "import re\n",
    "def clean_name(name):\n",
    "    # Первое слово до запятой - фамилия\n",
    "    s = re.search('^[^,]+, (.*)', name)\n",
    "    if s:\n",
    "        name = s.group(1)\n",
    "\n",
    "    # Если есть скобки - то имя пассажира в них\n",
    "    s = re.search('\\(([^)]+)\\)', name)\n",
    "    if s:\n",
    "        name = s.group(1)\n",
    "\n",
    "    # Удаляем обращения\n",
    "    name = re.sub('(Miss\\. |Mrs\\. |Ms\\. )', '', name)\n",
    "\n",
    "    # Берем первое оставшееся слово и удаляем кавычки\n",
    "    name = name.split(' ')[0].replace('\"', '')\n",
    "\n",
    "    return name\n",
    "\n",
    "\n",
    "names = data[data['Sex'] == 'female']['Name'].map(clean_name)\n",
    "name_counts = names.value_counts()\n",
    "most_popular_female_name = name_counts.head(1).index.values[0]\n",
    "with open('answer_6.txt', 'w') as the_file:\n",
    "    the_file.write(str(most_popular_female_name))"
   ]
  }
 ],
 "metadata": {
  "kernelspec": {
   "display_name": "Python 3",
   "language": "python",
   "name": "python3"
  },
  "language_info": {
   "codemirror_mode": {
    "name": "ipython",
    "version": 3
   },
   "file_extension": ".py",
   "mimetype": "text/x-python",
   "name": "python",
   "nbconvert_exporter": "python",
   "pygments_lexer": "ipython3",
   "version": "3.6.5"
  }
 },
 "nbformat": 4,
 "nbformat_minor": 2
}

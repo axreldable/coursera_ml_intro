{
 "cells": [
  {
   "cell_type": "code",
   "execution_count": 44,
   "metadata": {},
   "outputs": [
    {
     "name": "stdout",
     "output_type": "stream",
     "text": [
      "There is Nan values in data frame: False\n",
      "1\n",
      "3\n",
      "Fare\n",
      "Sex\n"
     ]
    }
   ],
   "source": [
    "import pandas\n",
    "import numpy as np\n",
    "\n",
    "data = pandas.read_csv('titanic.csv', index_col='PassengerId')\n",
    "\n",
    "data = data[pandas.notnull(data['Age'])]\n",
    "\n",
    "X = data[['Pclass', 'Fare', 'Age', 'Sex']]\n",
    "y = data[['Survived']]\n",
    "\n",
    "print('There is Nan values in data frame: ' + str(X.isnull().values.any()))\n",
    "\n",
    "X = X.replace({'male': 0, 'female': 1})\n",
    "\n",
    "from sklearn.tree import DecisionTreeClassifier\n",
    "clf = DecisionTreeClassifier(random_state=241)\n",
    "clf.fit(X, y)\n",
    "\n",
    "importances = clf.feature_importances_\n",
    "\n",
    "important_1, important_2 = importances.argsort()[-2:]\n",
    "print(important_1)\n",
    "print(important_2)\n",
    "\n",
    "column_names = X.columns.values\n",
    "\n",
    "print(column_names[important_1])\n",
    "print(column_names[important_2])\n",
    "\n",
    "with open('answer.txt', 'w') as the_file:\n",
    "    the_file.write(column_names[important_1] + ' ' +  column_names[important_2])"
   ]
  }
 ],
 "metadata": {
  "kernelspec": {
   "display_name": "Python 3",
   "language": "python",
   "name": "python3"
  },
  "language_info": {
   "codemirror_mode": {
    "name": "ipython",
    "version": 3
   },
   "file_extension": ".py",
   "mimetype": "text/x-python",
   "name": "python",
   "nbconvert_exporter": "python",
   "pygments_lexer": "ipython3",
   "version": "3.6.5"
  }
 },
 "nbformat": 4,
 "nbformat_minor": 2
}

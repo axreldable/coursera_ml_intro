{
 "cells": [
  {
   "cell_type": "code",
   "execution_count": 16,
   "metadata": {},
   "outputs": [],
   "source": [
    "import pandas\n",
    "from sklearn.svm import SVC\n",
    "\n",
    "# Загрузите выборку из файла svm-data.csv. В нем записана двумерная выборка (целевая переменная указана в первом столбце, признаки — во втором и третьем).\n",
    "data = pandas.read_csv('svm-data.csv', header=None)\n",
    "data\n",
    "\n",
    "y = data[0]\n",
    "X = data.loc[:, 1:]\n",
    "\n",
    "# Обучите классификатор с линейным ядром, параметром C = 100000 и random_state=241. \n",
    "# Такое значение параметра нужно использовать, чтобы убедиться, что SVM работает с выборкой как с линейно разделимой. \n",
    "# При более низких значениях параметра алгоритм будет настраиваться с учетом слагаемого в функционале, \n",
    "# штрафующего за маленькие отступы, из-за чего результат может не совпасть с решением классической задачи SVM для линейно разделимой выборки.\n",
    "clf = SVC(C = 100000, random_state=241)\n",
    "clf.fit(X, y) \n",
    "\n",
    "# Найдите номера объектов, которые являются опорными (нумерация с единицы). Они будут являться ответом на задание. \n",
    "# Обратите внимание, что в качестве ответа нужно привести номера объектов в возрастающем порядке через запятую или пробел. Нумерация начинается с 1.\n",
    "indexes_sup = clf.support_\n",
    "answer = ''\n",
    "for i in indexes_sup:\n",
    "    answer += str(i+1) + ' '\n",
    "answer[:-1]\n",
    "with open('answer.txt', 'w') as the_file:\n",
    "    the_file.write(str(answer[:-1]))"
   ]
  }
 ],
 "metadata": {
  "kernelspec": {
   "display_name": "Python 3",
   "language": "python",
   "name": "python3"
  },
  "language_info": {
   "codemirror_mode": {
    "name": "ipython",
    "version": 3
   },
   "file_extension": ".py",
   "mimetype": "text/x-python",
   "name": "python",
   "nbconvert_exporter": "python",
   "pygments_lexer": "ipython3",
   "version": "3.6.5"
  }
 },
 "nbformat": 4,
 "nbformat_minor": 2
}

{
 "cells": [
  {
   "cell_type": "code",
   "execution_count": 14,
   "metadata": {},
   "outputs": [
    {
     "name": "stderr",
     "output_type": "stream",
     "text": [
      "/home/axreldable/anaconda3/lib/python3.6/site-packages/sklearn/linear_model/stochastic_gradient.py:128: FutureWarning: max_iter and tol parameters have been added in <class 'sklearn.linear_model.perceptron.Perceptron'> in 0.19. If both are left unset, they default to max_iter=5 and tol=None. If tol is not None, max_iter defaults to max_iter=1000. From 0.21, default max_iter will be 1000, and default tol will be 1e-3.\n",
      "  \"and default tol will be 1e-3.\" % type(self), FutureWarning)\n"
     ]
    }
   ],
   "source": [
    "import pandas\n",
    "import sklearn.datasets\n",
    "from sklearn.linear_model import Perceptron\n",
    "from sklearn.metrics import accuracy_score\n",
    "from sklearn.preprocessing import StandardScaler\n",
    "\n",
    "# Загрузите обучающую и тестовую выборки из файлов perceptron-train.csv и perceptron-test.csv. Целевая переменная записана в первом столбце, признаки — во втором и третьем.\n",
    "train_df = pandas.read_csv('perceptron-train.csv', header=None)\n",
    "test_df = pandas.read_csv('perceptron-test.csv', header=None)\n",
    "\n",
    "y_train = train_df[0]\n",
    "X_train = train_df.loc[:, 1:]\n",
    "\n",
    "# Обучите персептрон со стандартными параметрами и random_state=241.\n",
    "clf = Perceptron(random_state=241)\n",
    "clf.fit(X_train, y_train)\n",
    "predictions_train = clf.predict(X_train)\n",
    "predictions_train\n",
    "\n",
    "y_test = test_df[0]\n",
    "X_test = test_df.loc[:, 1:]\n",
    "predictions_test = clf.predict(X_test)\n",
    "predictions_test\n",
    "\n",
    "# Подсчитайте качество (долю правильно классифицированных объектов, accuracy) полученного классификатора на тестовой выборке.\n",
    "score = accuracy_score(y_test, predictions_test)\n",
    "score\n",
    "\n",
    "# Нормализуйте обучающую и тестовую выборку с помощью класса StandardScaler.\n",
    "scaler = StandardScaler()\n",
    "X_train_scaled = scaler.fit_transform(X_train)\n",
    "X_test_scaled = scaler.transform(X_test)\n",
    "\n",
    "# Обучите персептрон на новой выборке. Найдите долю правильных ответов на тестовой выборке.\n",
    "clf.fit(X_train_scaled, y_train)\n",
    "predictions_train_scaled = clf.predict(X_train_scaled)\n",
    "predictions_train_scaled\n",
    "\n",
    "predictions_test_scaled = clf.predict(X_test_scaled)\n",
    "predictions_test_scaled\n",
    "\n",
    "score_scaled = accuracy_score(y_test, predictions_test_scaled)\n",
    "score_scaled\n",
    "\n",
    "# Найдите разность между качеством на тестовой выборке после нормализации и качеством до нее. Это число и будет ответом на задание.\n",
    "answer = round(score_scaled - score, 3)\n",
    "\n",
    "with open('answer.txt', 'w') as the_file:\n",
    "    the_file.write(str(answer))"
   ]
  }
 ],
 "metadata": {
  "kernelspec": {
   "display_name": "Python 3",
   "language": "python",
   "name": "python3"
  },
  "language_info": {
   "codemirror_mode": {
    "name": "ipython",
    "version": 3
   },
   "file_extension": ".py",
   "mimetype": "text/x-python",
   "name": "python",
   "nbconvert_exporter": "python",
   "pygments_lexer": "ipython3",
   "version": "3.6.5"
  }
 },
 "nbformat": 4,
 "nbformat_minor": 2
}

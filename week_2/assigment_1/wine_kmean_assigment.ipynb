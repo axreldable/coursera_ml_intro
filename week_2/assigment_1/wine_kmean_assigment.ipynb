{
 "cells": [
  {
   "cell_type": "code",
   "execution_count": 62,
   "metadata": {},
   "outputs": [],
   "source": [
    "import pandas\n",
    "import sklearn\n",
    "import numpy as np\n",
    "from sklearn.model_selection import KFold\n",
    "from sklearn.neighbors import KNeighborsClassifier\n",
    "from sklearn.model_selection import cross_val_score\n",
    "\n",
    "data = pandas.read_csv('wine.data',  index_col=False , sep=',', names=['Kind', \n",
    "                                                    'Alcohol', \n",
    "                                                    ' Malic acid', \n",
    "                                                    'Ash', \n",
    "                                                    'Alcalinity of ash', \n",
    "                                                    'Magnesium', \n",
    "                                                    'Total phenols', \n",
    "                                                    'Flavanoids', \n",
    "                                                    'Nonflavanoid phenols', \n",
    "                                                    'Proanthocyanins', \n",
    "                                                    'Color intensity', 'Hue',\n",
    "                                                    'OD280/OD315 of diluted wines', \n",
    "                                                    'Proline'])\n",
    "\n",
    "X = data.iloc[:,1:]\n",
    "y = data.iloc[:,0]\n",
    "\n",
    "kf = KFold(n_splits=5, shuffle=True, random_state=42)\n",
    "\n",
    "def test_accuracy(kf, X, y):\n",
    "    scores = list()\n",
    "    k_range = range(1, 51)\n",
    "    for k in k_range:\n",
    "        model = KNeighborsClassifier(n_neighbors=k)\n",
    "        scores.append(cross_val_score(estimator=model, X=X, y=y, cv=kf, scoring='accuracy'))\n",
    "\n",
    "    return pandas.DataFrame(scores, k_range).mean(axis=1).sort_values(ascending=False)\n",
    "\n",
    "accuracy = test_accuracy(kf, X, y)\n",
    "top_accuracy = accuracy.head(1)\n",
    "with open('answer_1.txt', 'w') as the_file:\n",
    "    the_file.write(str(top_accuracy.index[0]))\n",
    "with open('answer_2.txt', 'w') as the_file:\n",
    "    the_file.write(str(round(top_accuracy.values[0], 2)))\n",
    "\n",
    "\n",
    "X = sklearn.preprocessing.scale(X)\n",
    "accuracy = test_accuracy(kf, X, y)\n",
    "top_accuracy = accuracy.head(1)\n",
    "with open('answer_3.txt', 'w') as the_file:\n",
    "    the_file.write(str(top_accuracy.index[0]))\n",
    "with open('answer_4.txt', 'w') as the_file:\n",
    "    the_file.write(str(round(top_accuracy.values[0], 2)))\n",
    "\n"
   ]
  },
  {
   "cell_type": "code",
   "execution_count": null,
   "metadata": {},
   "outputs": [],
   "source": []
  }
 ],
 "metadata": {
  "kernelspec": {
   "display_name": "Python 3",
   "language": "python",
   "name": "python3"
  },
  "language_info": {
   "codemirror_mode": {
    "name": "ipython",
    "version": 3
   },
   "file_extension": ".py",
   "mimetype": "text/x-python",
   "name": "python",
   "nbconvert_exporter": "python",
   "pygments_lexer": "ipython3",
   "version": "3.6.5"
  }
 },
 "nbformat": 4,
 "nbformat_minor": 2
}

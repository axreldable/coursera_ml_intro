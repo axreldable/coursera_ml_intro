{
 "cells": [
  {
   "cell_type": "code",
   "execution_count": 32,
   "metadata": {},
   "outputs": [],
   "source": [
    "import pandas\n",
    "import sklearn.datasets\n",
    "from sklearn.neighbors import KNeighborsRegressor\n",
    "from sklearn.model_selection import cross_val_score\n",
    "\n",
    "boston = sklearn.datasets.load_boston()\n",
    "X = boston.data\n",
    "y = boston.target\n",
    "\n",
    "X = sklearn.preprocessing.scale(X)\n",
    "kf = KFold(n_splits=5, shuffle=True, random_state=42)\n",
    "scores = list()\n",
    "p_variants = np.linspace(1, 10, num=200)\n",
    "for p in np.linspace(1, 10, num=200):\n",
    "    model = KNeighborsRegressor(n_neighbors=5, weights='distance', p=p)\n",
    "    scores.append(cross_val_score(estimator=model, X=X, y=y, cv=kf, scoring='neg_mean_squared_error'))\n",
    "    \n",
    "# print(np.argmax(np.mean(scores, axis=1)))\n",
    "# print(np.mean(scores, axis=1))\n",
    "# scores\n",
    "# p_variants[np.argmax(np.mean(scores, axis=1))]\n",
    "with open('answer.txt', 'w') as the_file:\n",
    "    the_file.write(str(round(p_variants[np.argmax(np.mean(scores, axis=1))], 1)))\n",
    "\n",
    "# complete_matrix = np.array([\n",
    "#      [0, 1, 2, 4],\n",
    "#      [1, 0, 3, 5],\n",
    "#      [2, 3, 0, 6],\n",
    "#      [4, 5, 6, 0]])\n",
    "# np.argmax(np.mean(complete_matrix, axis=1))"
   ]
  }
 ],
 "metadata": {
  "kernelspec": {
   "display_name": "Python 3",
   "language": "python",
   "name": "python3"
  },
  "language_info": {
   "codemirror_mode": {
    "name": "ipython",
    "version": 3
   },
   "file_extension": ".py",
   "mimetype": "text/x-python",
   "name": "python",
   "nbconvert_exporter": "python",
   "pygments_lexer": "ipython3",
   "version": "3.6.5"
  }
 },
 "nbformat": 4,
 "nbformat_minor": 2
}

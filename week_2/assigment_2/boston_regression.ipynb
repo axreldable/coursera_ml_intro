{
 "cells": [
  {
   "cell_type": "code",
   "execution_count": 32,
   "metadata": {},
   "outputs": [],
   "source": [
    "# Мы будем использовать в данном задании набор данных Boston, где нужно предсказать стоимость жилья на основе различных характеристик \n",
    "# расположения (загрязненность воздуха, близость к дорогам и т.д.). Подробнее о признаках можно почитать \n",
    "# по адресу https://archive.ics.uci.edu/ml/machine-learning-databases/housing/import pandas\n",
    "import sklearn.datasets\n",
    "from sklearn.neighbors import KNeighborsRegressor\n",
    "from sklearn.model_selection import cross_val_score\n",
    "\n",
    "# Загрузите выборку Boston с помощью функции sklearn.datasets.load_boston(). \n",
    "# Результатом вызова данной функции является объект, у которого признаки записаны в поле data, а целевой вектор — в поле target.\n",
    "boston = sklearn.datasets.load_boston()\n",
    "X = boston.data\n",
    "y = boston.target\n",
    "\n",
    "# Приведите признаки в выборке к одному масштабу при помощи функции sklearn.preprocessing.scale.\n",
    "X = sklearn.preprocessing.scale(X)\n",
    "\n",
    "# Переберите разные варианты параметра метрики p по сетке от 1 до 10 с таким шагом, чтобы всего было протестировано 200 вариантов (используйте функцию numpy.linspace). \n",
    "# Используйте KNeighborsRegressor с n_neighbors=5 и weights='distance' — данный параметр добавляет в алгоритм веса, зависящие от расстояния до ближайших соседей. \n",
    "# В качестве метрики качества используйте среднеквадратичную ошибку (параметр scoring='mean_squared_error' у cross_val_score; \n",
    "# при использовании библиотеки scikit-learn версии 0.18.1 и выше необходимо указывать scoring='neg_mean_squared_error'). \n",
    "# Качество оценивайте, как и в предыдущем задании, с помощью кросс-валидации по 5 блокам с random_state = 42, не забудьте включить перемешивание выборки (shuffle=True).\n",
    "kf = KFold(n_splits=5, shuffle=True, random_state=42)\n",
    "scores = list()\n",
    "p_variants = np.linspace(1, 10, num=200)\n",
    "for p in np.linspace(1, 10, num=200):\n",
    "    model = KNeighborsRegressor(n_neighbors=5, weights='distance', p=p)\n",
    "    scores.append(cross_val_score(estimator=model, X=X, y=y, cv=kf, scoring='neg_mean_squared_error'))\n",
    "    \n",
    "# print(np.argmax(np.mean(scores, axis=1)))\n",
    "# print(np.mean(scores, axis=1))\n",
    "# scores\n",
    "# p_variants[np.argmax(np.mean(scores, axis=1))]\n",
    "\n",
    "# Определите, при каком p качество на кросс-валидации оказалось оптимальным. \n",
    "# Обратите внимание, что cross_val_score возвращает массив показателей качества по блокам; необходимо максимизировать среднее этих показателей. \n",
    "# Это значение параметра и будет ответом на задачу.\n",
    "with open('answer.txt', 'w') as the_file:\n",
    "    the_file.write(str(round(p_variants[np.argmax(np.mean(scores, axis=1))], 1)))\n",
    "\n",
    "# complete_matrix = np.array([\n",
    "#      [0, 1, 2, 4],\n",
    "#      [1, 0, 3, 5],\n",
    "#      [2, 3, 0, 6],\n",
    "#      [4, 5, 6, 0]])\n",
    "# np.argmax(np.mean(complete_matrix, axis=1))"
   ]
  }
 ],
 "metadata": {
  "kernelspec": {
   "display_name": "Python 3",
   "language": "python",
   "name": "python3"
  },
  "language_info": {
   "codemirror_mode": {
    "name": "ipython",
    "version": 3
   },
   "file_extension": ".py",
   "mimetype": "text/x-python",
   "name": "python",
   "nbconvert_exporter": "python",
   "pygments_lexer": "ipython3",
   "version": "3.6.5"
  }
 },
 "nbformat": 4,
 "nbformat_minor": 2
}
